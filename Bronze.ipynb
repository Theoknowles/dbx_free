{
 "cells": [
  {
   "cell_type": "markdown",
   "metadata": {
    "application/vnd.databricks.v1+cell": {
     "cellMetadata": {},
     "inputWidgets": {},
     "nuid": "b5c156d2-9797-43f3-9ffb-211be99fd9cc",
     "showTitle": false,
     "tableResultSettingsMap": {},
     "title": ""
    }
   },
   "source": [
    "This is a test2"
   ]
  },
  {
   "cell_type": "code",
   "execution_count": 0,
   "metadata": {
    "application/vnd.databricks.v1+cell": {
     "cellMetadata": {
      "byteLimit": 2048000,
      "implicitDf": true,
      "rowLimit": 10000
     },
     "inputWidgets": {},
     "nuid": "6d35e970-cdf8-4131-9feb-491c9c16cef3",
     "showTitle": false,
     "tableResultSettingsMap": {},
     "title": ""
    }
   },
   "outputs": [],
   "source": [
    "%sql\n",
    "SELECT * FROM samples.tpcds_sf1.call_center"
   ]
  },
  {
   "cell_type": "code",
   "execution_count": 0,
   "metadata": {
    "application/vnd.databricks.v1+cell": {
     "cellMetadata": {
      "byteLimit": 2048000,
      "rowLimit": 10000
     },
     "inputWidgets": {},
     "nuid": "c78defdb-1491-48f4-bbb4-32e0cf5b09a1",
     "showTitle": false,
     "tableResultSettingsMap": {},
     "title": ""
    }
   },
   "outputs": [],
   "source": [
    "%run /Workspace/Shared/dbx_free/Utility/utils"
   ]
  },
  {
   "cell_type": "code",
   "execution_count": 0,
   "metadata": {
    "application/vnd.databricks.v1+cell": {
     "cellMetadata": {
      "byteLimit": 2048000,
      "rowLimit": 10000
     },
     "inputWidgets": {},
     "nuid": "a5349555-de71-4fa6-9cd6-6b651f31cf7d",
     "showTitle": false,
     "tableResultSettingsMap": {},
     "title": ""
    }
   },
   "outputs": [],
   "source": [
    "# Define source & target catalogs\n",
    "source_catalog = \"samples\"\n",
    "target_catalog = \"bronze\"\n",
    "schema = \"tpcds_sf1\"\n",
    "\n",
    "# Optional: define merge keys per table (if not all tables use the same)\n",
    "merge_key_map = {\n",
    "    \"call_center\": [\"cc_call_center_sk\"],\n",
    "    \"catalog_returns\": [\"cr_item_sk\", \"cr_order_number\"],\n",
    "    \"catalog_sales\": [\"cs_item_sk\", \"cs_order_number\"],\n",
    "    \"customer\": [\"c_customer_sk\"],\n",
    "    \"customer_address\": [\"ca_address_sk\"],\n",
    "    \"customer_demographics\": [\"cd_demo_sk\"],\n",
    "    \"date_dim\": [\"d_date_sk\"],\n",
    "    \"household_demographics\": [\"hd_demo_sk\"],\n",
    "    \"income_band\": [\"ib_income_band_sk\"],\n",
    "    \"inventory\": [\"inv_item_sk\", \"inv_warehouse_sk\"],\n",
    "    \"item\": [\"i_item_sk\"],\n",
    "    \"promotion\": [\"p_promo_sk\"],\n",
    "    \"reason\": [\"r_reason_sk\"],\n",
    "    \"ship_mode\": [\"sm_ship_mode_sk\"],\n",
    "    \"store\": [\"s_store_sk\"],\n",
    "    \"store_returns\": [\"sr_item_sk\", \"sr_ticket_number\"],\n",
    "    \"store_sales\": [\"ss_item_sk\", \"ss_ticket_number\"],\n",
    "    \"time_dim\": [\"t_time_sk\"],\n",
    "    \"warehouse\": [\"w_warehouse_sk\"],\n",
    "    \"web_page\": [\"wp_web_page_sk\"],\n",
    "    \"web_returns\": [\"wr_item_sk\", \"wr_order_number\"],\n",
    "    \"web_sales\": [\"ws_item_sk\", \"ws_order_number\"],\n",
    "    \"web_site\": [\"web_site_sk\"],\n",
    "    \"catalog_page\": [\"cp_catalog_page_sk\"]\n",
    "}\n"
   ]
  },
  {
   "cell_type": "code",
   "execution_count": 0,
   "metadata": {
    "application/vnd.databricks.v1+cell": {
     "cellMetadata": {
      "byteLimit": 2048000,
      "rowLimit": 10000
     },
     "inputWidgets": {},
     "nuid": "5b626fdd-b694-47fe-8370-854b8cdb32a0",
     "showTitle": false,
     "tableResultSettingsMap": {},
     "title": ""
    }
   },
   "outputs": [],
   "source": [
    "tables = [row.tableName for row in spark.sql(f\"SHOW TABLES IN {source_catalog}.{schema}\").collect()]\n",
    "print(f\"Schema {schema} → {len(tables)} tables\")\n",
    "\n"
   ]
  },
  {
   "cell_type": "code",
   "execution_count": 0,
   "metadata": {
    "application/vnd.databricks.v1+cell": {
     "cellMetadata": {
      "byteLimit": 2048000,
      "rowLimit": 10000
     },
     "inputWidgets": {},
     "nuid": "b90c696d-a3dd-41fa-8a5f-5a6e1164c1f9",
     "showTitle": false,
     "tableResultSettingsMap": {},
     "title": ""
    }
   },
   "outputs": [],
   "source": [
    "# Make sure schema exists in target catalog\n",
    "spark.sql(f\"CREATE SCHEMA IF NOT EXISTS {target_catalog}.{schema}\")\n",
    "\n",
    "for table in tables:\n",
    "    source_table = f\"{source_catalog}.{schema}.{table}\"\n",
    "    target_table = f\"{target_catalog}.{schema}.{table}\"\n",
    "    \n",
    "    # Pick merge keys (table-specific or fallback)\n",
    "    keys = merge_key_map.get(table, default_key)\n",
    "    \n",
    "    # Call util function\n",
    "    upsert_table(source_table, target_table, keys)\n",
    "\n"
   ]
  }
 ],
 "metadata": {
  "application/vnd.databricks.v1+notebook": {
   "computePreferences": null,
   "dashboards": [],
   "environmentMetadata": {
    "base_environment": "",
    "environment_version": "3"
   },
   "inputWidgetPreferences": null,
   "language": "python",
   "notebookMetadata": {
    "mostRecentlyExecutedCommandWithImplicitDF": {
     "commandId": 8839236108631681,
     "dataframes": [
      "_sqldf"
     ]
    },
    "pythonIndentUnit": 4
   },
   "notebookName": "Bronze",
   "widgets": {}
  },
  "language_info": {
   "name": "python"
  }
 },
 "nbformat": 4,
 "nbformat_minor": 0
}
