{
 "cells": [
  {
   "cell_type": "markdown",
   "metadata": {
    "application/vnd.databricks.v1+cell": {
     "cellMetadata": {
      "byteLimit": 2048000,
      "rowLimit": 10000
     },
     "inputWidgets": {},
     "nuid": "0a29e0cb-7a14-4ee1-90b0-1303f1ca6687",
     "showTitle": false,
     "tableResultSettingsMap": {},
     "title": ""
    }
   },
   "source": [
    "SILVER TEST"
   ]
  },
  {
   "cell_type": "code",
   "execution_count": 0,
   "metadata": {
    "application/vnd.databricks.v1+cell": {
     "cellMetadata": {
      "byteLimit": 2048000,
      "rowLimit": 10000
     },
     "inputWidgets": {},
     "nuid": "ab99dd10-85b5-428b-9823-926759b58645",
     "showTitle": false,
     "tableResultSettingsMap": {},
     "title": ""
    }
   },
   "outputs": [],
   "source": [
    "%run /Workspace/Users/theoknowles96@gmail.com/dbx_free/Utility/utils"
   ]
  },
  {
   "cell_type": "code",
   "execution_count": 0,
   "metadata": {
    "application/vnd.databricks.v1+cell": {
     "cellMetadata": {
      "byteLimit": 2048000,
      "rowLimit": 10000
     },
     "inputWidgets": {},
     "nuid": "edbe7c73-8298-42a0-914f-89e7e3b1b0e9",
     "showTitle": false,
     "tableResultSettingsMap": {},
     "title": ""
    }
   },
   "outputs": [],
   "source": [
    "# Databricks notebook source\n",
    "from pyspark.sql import functions as F\n",
    "\n",
    "# ╔═══════════════════════════════════════════════════════════════════╗\n",
    "# ║ 1. Widgets: to make notebook reusable                             ║\n",
    "# ╚═══════════════════════════════════════════════════════════════════╝\n",
    "\n",
    "dbutils.widgets.text(\"bronze_catalog\", \"bronze\")\n",
    "dbutils.widgets.text(\"bronze_schema\", \"tpcds_sf1\")\n",
    "dbutils.widgets.text(\"silver_catalog\", \"silver\")\n",
    "dbutils.widgets.text(\"silver_schema\", \"tpcds_sf1\")\n",
    "\n",
    "bronze_catalog = dbutils.widgets.get(\"bronze_catalog\")\n",
    "bronze_schema = dbutils.widgets.get(\"bronze_schema\")\n",
    "silver_catalog = dbutils.widgets.get(\"silver_catalog\")\n",
    "silver_schema = dbutils.widgets.get(\"silver_schema\")\n",
    "\n",
    "print(f\"Reading from {bronze_catalog}.{bronze_schema} and writing to {silver_catalog}.{silver_schema}\")\n"
   ]
  },
  {
   "cell_type": "code",
   "execution_count": 0,
   "metadata": {
    "application/vnd.databricks.v1+cell": {
     "cellMetadata": {
      "byteLimit": 2048000,
      "rowLimit": 10000
     },
     "inputWidgets": {},
     "nuid": "e5cfe51a-fd0b-407b-b70f-8e3aff34b470",
     "showTitle": false,
     "tableResultSettingsMap": {},
     "title": ""
    }
   },
   "outputs": [],
   "source": [
    "# ╔═══════════════════════════════════════════════════════════════════╗\n",
    "# ║ 2. Get all tables in the Bronze schema                            ║\n",
    "# ╚═══════════════════════════════════════════════════════════════════╝\n",
    "\n",
    "tables_df = spark.sql(f\"SHOW TABLES IN {bronze_catalog}.{bronze_schema}\")\n",
    "bronze_tables = [row[\"tableName\"] for row in tables_df.collect()]\n",
    "\n",
    "print(\"Tables found in Bronze:\")\n",
    "print(bronze_tables)\n"
   ]
  },
  {
   "cell_type": "code",
   "execution_count": 0,
   "metadata": {
    "application/vnd.databricks.v1+cell": {
     "cellMetadata": {
      "byteLimit": 2048000,
      "rowLimit": 10000
     },
     "inputWidgets": {},
     "nuid": "efcd4ee8-03eb-4522-a884-0f26fc5d12ca",
     "showTitle": false,
     "tableResultSettingsMap": {},
     "title": ""
    }
   },
   "outputs": [],
   "source": [
    "call_center_df = spark.read.table(f\"{bronze_catalog}.{bronze_schema}.call_center\")\n",
    "display(call_center_df)"
   ]
  },
  {
   "cell_type": "code",
   "execution_count": 0,
   "metadata": {
    "application/vnd.databricks.v1+cell": {
     "cellMetadata": {
      "byteLimit": 2048000,
      "rowLimit": 10000
     },
     "inputWidgets": {},
     "nuid": "548bd08b-48aa-476b-ae5d-d278edfff67d",
     "showTitle": false,
     "tableResultSettingsMap": {},
     "title": ""
    }
   },
   "outputs": [],
   "source": [
    "new_df = add_surrogate_key(call_center_df, \"sk\")\n",
    "display(new_df)"
   ]
  },
  {
   "cell_type": "code",
   "execution_count": 0,
   "metadata": {
    "application/vnd.databricks.v1+cell": {
     "cellMetadata": {
      "byteLimit": 2048000,
      "rowLimit": 10000
     },
     "inputWidgets": {},
     "nuid": "6828dff7-9d78-48fa-a9a6-8f9526ccb8f2",
     "showTitle": false,
     "tableResultSettingsMap": {},
     "title": ""
    }
   },
   "outputs": [],
   "source": [
    "merge_key_map = {\n",
    "    \"call_center\": [\"cc_call_center_sk\"],\n",
    "    \"catalog_returns\": [\"cr_item_sk\", \"cr_order_number\"],\n",
    "    \"catalog_sales\": [\"cs_item_sk\", \"cs_order_number\"],\n",
    "    \"customer\": [\"c_customer_sk\"],\n",
    "    \"customer_address\": [\"ca_address_sk\"],\n",
    "    \"customer_demographics\": [\"cd_demo_sk\"],\n",
    "    \"date_dim\": [\"d_date_sk\"],\n",
    "    \"household_demographics\": [\"hd_demo_sk\"],\n",
    "    \"income_band\": [\"ib_income_band_sk\"],\n",
    "    \"inventory\": [\"inv_item_sk\", \"inv_warehouse_sk\"],\n",
    "    \"item\": [\"i_item_sk\"],\n",
    "    \"promotion\": [\"p_promo_sk\"],\n",
    "    \"reason\": [\"r_reason_sk\"],\n",
    "    \"ship_mode\": [\"sm_ship_mode_sk\"],\n",
    "    \"store\": [\"s_store_sk\"],\n",
    "    \"store_returns\": [\"sr_item_sk\", \"sr_ticket_number\"],\n",
    "    \"store_sales\": [\"ss_item_sk\", \"ss_ticket_number\"],\n",
    "    \"time_dim\": [\"t_time_sk\"],\n",
    "    \"warehouse\": [\"w_warehouse_sk\"],\n",
    "    \"web_page\": [\"wp_web_page_sk\"],\n",
    "    \"web_returns\": [\"wr_item_sk\", \"wr_order_number\"],\n",
    "    \"web_sales\": [\"ws_item_sk\", \"ws_order_number\"],\n",
    "    \"web_site\": [\"web_site_sk\"],\n",
    "    \"catalog_page\": [\"cp_catalog_page_sk\"]\n",
    "}\n"
   ]
  },
  {
   "cell_type": "code",
   "execution_count": 0,
   "metadata": {
    "application/vnd.databricks.v1+cell": {
     "cellMetadata": {
      "byteLimit": 2048000,
      "rowLimit": 10000
     },
     "inputWidgets": {},
     "nuid": "7869d2d6-ccb7-4732-a12a-4921e0638684",
     "showTitle": false,
     "tableResultSettingsMap": {},
     "title": ""
    }
   },
   "outputs": [],
   "source": [
    "tables = [row.tableName for row in spark.sql(f\"SHOW TABLES IN {bronze_catalog}.{bronze_schema}\").collect()]\n",
    "print(f\"Schema {bronze_schema} → {len(tables)} tables\")"
   ]
  },
  {
   "cell_type": "code",
   "execution_count": 0,
   "metadata": {
    "application/vnd.databricks.v1+cell": {
     "cellMetadata": {
      "byteLimit": 2048000,
      "rowLimit": 10000
     },
     "inputWidgets": {},
     "nuid": "57bf7d67-3102-4809-841a-85d73113f216",
     "showTitle": false,
     "tableResultSettingsMap": {},
     "title": ""
    }
   },
   "outputs": [],
   "source": [
    "spark.sql(f\"CREATE SCHEMA IF NOT EXISTS {silver_catalog}.{silver_schema}\")\n",
    "\n",
    "for table in tables:\n",
    "    source_table = f\"{bronze_catalog}.{bronze_schema}.{table}\"\n",
    "    target_table = f\"{silver_catalog}.{silver_schema}.{table}\"\n",
    "    \n",
    "    # Pick merge keys (table-specific or fallback)\n",
    "    keys = merge_key_map.get(table)\n",
    "    \n",
    "    # Call util function\n",
    "    upsert_table(source_table, target_table, keys)\n"
   ]
  }
 ],
 "metadata": {
  "application/vnd.databricks.v1+notebook": {
   "computePreferences": null,
   "dashboards": [],
   "environmentMetadata": {
    "base_environment": "",
    "environment_version": "3"
   },
   "inputWidgetPreferences": null,
   "language": "python",
   "notebookMetadata": {
    "pythonIndentUnit": 4
   },
   "notebookName": "Silver",
   "widgets": {
    "bronze_catalog": {
     "currentValue": "bronze",
     "nuid": "d3513bb2-b653-4f5d-b70b-e8cbb42a64eb",
     "typedWidgetInfo": {
      "autoCreated": false,
      "defaultValue": "bronze",
      "label": null,
      "name": "bronze_catalog",
      "options": {
       "widgetDisplayType": "Text",
       "validationRegex": null
      },
      "parameterDataType": "String"
     },
     "widgetInfo": {
      "widgetType": "text",
      "defaultValue": "bronze",
      "label": null,
      "name": "bronze_catalog",
      "options": {
       "widgetType": "text",
       "autoCreated": null,
       "validationRegex": null
      }
     }
    },
    "bronze_schema": {
     "currentValue": "tpcds_sf1",
     "nuid": "097bef83-8bd5-4fb5-bff2-c2d4213bd970",
     "typedWidgetInfo": {
      "autoCreated": false,
      "defaultValue": "tpcds_sf1",
      "label": null,
      "name": "bronze_schema",
      "options": {
       "widgetDisplayType": "Text",
       "validationRegex": null
      },
      "parameterDataType": "String"
     },
     "widgetInfo": {
      "widgetType": "text",
      "defaultValue": "tpcds_sf1",
      "label": null,
      "name": "bronze_schema",
      "options": {
       "widgetType": "text",
       "autoCreated": null,
       "validationRegex": null
      }
     }
    },
    "silver_catalog": {
     "currentValue": "silver",
     "nuid": "61d3c39a-98de-4f37-9268-93401eb56cdb",
     "typedWidgetInfo": {
      "autoCreated": false,
      "defaultValue": "silver",
      "label": null,
      "name": "silver_catalog",
      "options": {
       "widgetDisplayType": "Text",
       "validationRegex": null
      },
      "parameterDataType": "String"
     },
     "widgetInfo": {
      "widgetType": "text",
      "defaultValue": "silver",
      "label": null,
      "name": "silver_catalog",
      "options": {
       "widgetType": "text",
       "autoCreated": null,
       "validationRegex": null
      }
     }
    },
    "silver_schema": {
     "currentValue": "tpcds_sf1",
     "nuid": "d4694c07-2a70-495e-8f05-a6f5745dea5b",
     "typedWidgetInfo": {
      "autoCreated": false,
      "defaultValue": "tpcds_sf1",
      "label": null,
      "name": "silver_schema",
      "options": {
       "widgetDisplayType": "Text",
       "validationRegex": null
      },
      "parameterDataType": "String"
     },
     "widgetInfo": {
      "widgetType": "text",
      "defaultValue": "tpcds_sf1",
      "label": null,
      "name": "silver_schema",
      "options": {
       "widgetType": "text",
       "autoCreated": null,
       "validationRegex": null
      }
     }
    }
   }
  },
  "language_info": {
   "name": "python"
  }
 },
 "nbformat": 4,
 "nbformat_minor": 0
}
