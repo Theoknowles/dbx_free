{
 "cells": [
  {
   "cell_type": "code",
   "execution_count": 0,
   "metadata": {
    "application/vnd.databricks.v1+cell": {
     "cellMetadata": {
      "byteLimit": 2048000,
      "rowLimit": 10000
     },
     "inputWidgets": {},
     "nuid": "61babd59-d953-4f70-ac5b-5f2aff149924",
     "showTitle": false,
     "tableResultSettingsMap": {},
     "title": ""
    }
   },
   "outputs": [],
   "source": [
    "# utils notebook\n",
    "\n",
    "def upsert_table(source_table: str, target_table: str, merge_keys: list):\n",
    "    \"\"\"\n",
    "    Perform an upsert (MERGE) from source_table into target_table.\n",
    "    \"\"\"\n",
    "    merge_condition = \" AND \".join([f\"target.{k} = source.{k}\" for k in merge_keys])\n",
    "    \n",
    "    # Ensure target exists (empty schema copy if new)\n",
    "    spark.sql(f\"\"\"\n",
    "    CREATE TABLE IF NOT EXISTS {target_table}\n",
    "    USING DELTA\n",
    "    AS SELECT * FROM {source_table} WHERE 1=0\n",
    "    \"\"\")\n",
    "    \n",
    "    merge_sql = f\"\"\"\n",
    "    MERGE INTO {target_table} AS target\n",
    "    USING {source_table} AS source\n",
    "    ON {merge_condition}\n",
    "    WHEN MATCHED THEN UPDATE SET *\n",
    "    WHEN NOT MATCHED THEN INSERT *\n",
    "    \"\"\"\n",
    "    \n",
    "    print(f\"MERGE {source_table} → {target_table} ON {merge_keys}\")\n",
    "    spark.sql(merge_sql)\n"
   ]
  }
 ],
 "metadata": {
  "application/vnd.databricks.v1+notebook": {
   "computePreferences": null,
   "dashboards": [],
   "environmentMetadata": {
    "base_environment": "",
    "environment_version": "3"
   },
   "inputWidgetPreferences": null,
   "language": "python",
   "notebookMetadata": {
    "pythonIndentUnit": 4
   },
   "notebookName": "utils",
   "widgets": {}
  },
  "language_info": {
   "name": "python"
  }
 },
 "nbformat": 4,
 "nbformat_minor": 0
}
