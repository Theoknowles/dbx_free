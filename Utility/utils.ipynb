{
 "cells": [
  {
   "cell_type": "code",
   "execution_count": 0,
   "metadata": {
    "application/vnd.databricks.v1+cell": {
     "cellMetadata": {
      "byteLimit": 2048000,
      "rowLimit": 10000
     },
     "inputWidgets": {},
     "nuid": "bfae31a5-9613-4944-b756-e58327b610a5",
     "showTitle": false,
     "tableResultSettingsMap": {},
     "title": ""
    }
   },
   "outputs": [],
   "source": [
    "from pyspark.sql import DataFrame\n",
    "from pyspark.sql.functions import monotonically_increasing_id\n",
    "import sys\n",
    "import inspect"
   ]
  },
  {
   "cell_type": "markdown",
   "metadata": {
    "application/vnd.databricks.v1+cell": {
     "cellMetadata": {
      "byteLimit": 2048000,
      "rowLimit": 10000
     },
     "inputWidgets": {},
     "nuid": "0eac593a-5be8-41e1-b195-105ee5a6c749",
     "showTitle": false,
     "tableResultSettingsMap": {},
     "title": ""
    }
   },
   "source": [
    "Upsert Data"
   ]
  },
  {
   "cell_type": "code",
   "execution_count": 0,
   "metadata": {
    "application/vnd.databricks.v1+cell": {
     "cellMetadata": {
      "byteLimit": 2048000,
      "rowLimit": 10000
     },
     "inputWidgets": {},
     "nuid": "61babd59-d953-4f70-ac5b-5f2aff149924",
     "showTitle": false,
     "tableResultSettingsMap": {},
     "title": ""
    }
   },
   "outputs": [],
   "source": [
    "# utils notebook\n",
    "\n",
    "def upsert_table(source_table: str, target_table: str, merge_keys: list):\n",
    "    \"\"\"\n",
    "    Perform an upsert (MERGE) from source_table into target_table.\n",
    "    \"\"\"\n",
    "    merge_condition = \" AND \".join([f\"target.{k} = source.{k}\" for k in merge_keys])\n",
    "    \n",
    "    # Ensure target exists (empty schema copy if new)\n",
    "    spark.sql(f\"\"\"\n",
    "    CREATE TABLE IF NOT EXISTS {target_table}\n",
    "    USING DELTA\n",
    "    AS SELECT * FROM {source_table} WHERE 1=0\n",
    "    \"\"\")\n",
    "    \n",
    "    merge_sql = f\"\"\"\n",
    "    MERGE INTO {target_table} AS target\n",
    "    USING {source_table} AS source\n",
    "    ON {merge_condition}\n",
    "    WHEN MATCHED THEN UPDATE SET *\n",
    "    WHEN NOT MATCHED THEN INSERT *\n",
    "    \"\"\"\n",
    "    \n",
    "    print(f\"MERGE {source_table} → {target_table} ON {merge_keys}\")\n",
    "    spark.sql(merge_sql)\n",
    "\n",
    "\n"
   ]
  },
  {
   "cell_type": "markdown",
   "metadata": {
    "application/vnd.databricks.v1+cell": {
     "cellMetadata": {
      "byteLimit": 2048000,
      "rowLimit": 10000
     },
     "inputWidgets": {},
     "nuid": "eefca6c2-a8b7-4e12-8475-818fc9d0ddf0",
     "showTitle": false,
     "tableResultSettingsMap": {},
     "title": ""
    }
   },
   "source": [
    "Surrogate Keys"
   ]
  },
  {
   "cell_type": "code",
   "execution_count": 0,
   "metadata": {
    "application/vnd.databricks.v1+cell": {
     "cellMetadata": {
      "byteLimit": 2048000,
      "rowLimit": 10000
     },
     "inputWidgets": {},
     "nuid": "2a755a42-e896-4d57-b1d3-cbda3bcc44eb",
     "showTitle": false,
     "tableResultSettingsMap": {},
     "title": ""
    }
   },
   "outputs": [],
   "source": [
    "def add_surrogate_key(df: DataFrame, key_name: str = \"surrogate_key\") -> DataFrame:\n",
    "    \"\"\"\n",
    "    Adds a surrogate key column to the DataFrame using Spark's\n",
    "    monotonically_increasing_id function.\n",
    "    \n",
    "    Parameters:\n",
    "        df (DataFrame): Input dataframe\n",
    "        key_name (str): Name of the surrogate key column\n",
    "\n",
    "    Returns:\n",
    "        DataFrame: DataFrame with surrogate key column added\n",
    "    \"\"\"\n",
    "    return df.withColumn(key_name, monotonically_increasing_id())"
   ]
  },
  {
   "cell_type": "code",
   "execution_count": 0,
   "metadata": {
    "application/vnd.databricks.v1+cell": {
     "cellMetadata": {
      "byteLimit": 2048000,
      "rowLimit": 10000
     },
     "inputWidgets": {},
     "nuid": "e5c01766-42cf-49df-96da-5124c76121f5",
     "showTitle": false,
     "tableResultSettingsMap": {},
     "title": ""
    }
   },
   "outputs": [],
   "source": [
    "current_module = sys.modules[__name__]\n",
    "\n",
    "# Collect all callables defined here (exclude builtins/imports)\n",
    "utils_functions = [\n",
    "    name for name, obj in vars(current_module).items()\n",
    "    if callable(obj) and inspect.isfunction(obj) and obj.__module__ == __name__\n",
    "]\n",
    "\n",
    "print(\"✅ Utils notebook loaded.\")\n",
    "print(\"Available functions:\", utils_functions)\n",
    "print(\"Tip: Use help(function_name) for details.\")"
   ]
  },
  {
   "cell_type": "code",
   "execution_count": 0,
   "metadata": {
    "application/vnd.databricks.v1+cell": {
     "cellMetadata": {
      "byteLimit": 2048000,
      "rowLimit": 10000
     },
     "inputWidgets": {},
     "nuid": "b6d32b96-6082-4a1a-9e54-9b3d53973b94",
     "showTitle": false,
     "tableResultSettingsMap": {},
     "title": ""
    }
   },
   "outputs": [],
   "source": [
    "# Databricks notebook source\n",
    "print(\"✅ Utils notebook loaded.\")\n",
    "print(\"Available functions: ['add_surrogate_key', 'clean_strings']\")\n"
   ]
  }
 ],
 "metadata": {
  "application/vnd.databricks.v1+notebook": {
   "computePreferences": null,
   "dashboards": [],
   "environmentMetadata": {
    "base_environment": "",
    "environment_version": "3"
   },
   "inputWidgetPreferences": null,
   "language": "python",
   "notebookMetadata": {
    "pythonIndentUnit": 4
   },
   "notebookName": "utils",
   "widgets": {}
  },
  "language_info": {
   "name": "python"
  }
 },
 "nbformat": 4,
 "nbformat_minor": 0
}
